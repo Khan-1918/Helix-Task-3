{
  "nbformat": 4,
  "nbformat_minor": 0,
  "metadata": {
    "colab": {
      "provenance": []
    },
    "kernelspec": {
      "name": "python3",
      "display_name": "Python 3"
    },
    "language_info": {
      "name": "python"
    }
  },
  "cells": [
    {
      "cell_type": "markdown",
      "source": [
        "# Mounted Google Drive"
      ],
      "metadata": {
        "id": "KXC6igwiAHEJ"
      }
    },
    {
      "cell_type": "code",
      "execution_count": 1,
      "metadata": {
        "colab": {
          "base_uri": "https://localhost:8080/"
        },
        "id": "v_3a6LtUgpxI",
        "outputId": "e35606e6-86ef-4c26-c254-a6a4d4fb8d93"
      },
      "outputs": [
        {
          "output_type": "stream",
          "name": "stdout",
          "text": [
            "Mounted at /content/drive\n"
          ]
        }
      ],
      "source": [
        "from google.colab import drive\n",
        "drive.mount('/content/drive')"
      ]
    },
    {
      "cell_type": "markdown",
      "source": [
        "# Code; Reading Image, format and Size"
      ],
      "metadata": {
        "id": "3Qt_XrP-ANBX"
      }
    },
    {
      "cell_type": "code",
      "source": [
        "import os\n",
        "import cv2  # or Pillow, Matplotlib\n",
        "\n",
        "# Path to the directory containing images\n",
        "image_dir = '/content/drive/MyDrive/Helix Good Images'\n",
        "\n",
        "jpg_count = 0\n",
        "jpeg_count = 0\n",
        "png_count = 0\n",
        "\n",
        "# Iterate through all files in the directory\n",
        "for filename in os.listdir(image_dir):\n",
        "    file_path = os.path.join(image_dir, filename)  # Full path to the image\n",
        "\n",
        "    # Count file types and process images\n",
        "    if filename.lower().endswith('.jpg'):\n",
        "        jpg_count += 1\n",
        "    elif filename.lower().endswith('.jpeg'):\n",
        "        jpeg_count += 1\n",
        "    elif filename.lower().endswith('.png'):\n",
        "        png_count += 1\n",
        "\n",
        "    if filename.endswith(('.jpg','.jpeg','.png')):  # Check for image file extensions\n",
        "        # Read the image\n",
        "        image = cv2.imread(file_path)\n",
        "        if image is not None:\n",
        "            print(f\"Processed: {filename}, Dimensions: {image.shape}\")\n",
        "        else:\n",
        "            print(f\"Failed to read: {filename}\")\n",
        "\n",
        "# Print the counts for each file type\n",
        "print(\"\\nFile type counts:\")\n",
        "print(f\"Number of .jpg files: {jpg_count}\")\n",
        "print(f\"Number of .jpeg files: {jpeg_count}\")\n",
        "print(f\"Number of .png files: {png_count}\")\n"
      ],
      "metadata": {
        "colab": {
          "base_uri": "https://localhost:8080/"
        },
        "id": "Pdr6SNc2eS6J",
        "outputId": "2e02acd6-1393-4c35-d0ec-aece67884ae4"
      },
      "execution_count": 2,
      "outputs": [
        {
          "output_type": "stream",
          "name": "stdout",
          "text": [
            "Processed: 12 4.jpg, Dimensions: (307, 164, 3)\n",
            "Processed: 13 2.jpg, Dimensions: (259, 194, 3)\n",
            "Processed: 11 2.jpg, Dimensions: (640, 665, 3)\n",
            "Processed: 4 8.jpg, Dimensions: (600, 800, 3)\n",
            "Processed: 4 7.jpg, Dimensions: (4032, 3024, 3)\n",
            "Processed: 1 14.jpg, Dimensions: (560, 433, 3)\n",
            "Processed: 5 10.jpg, Dimensions: (519, 400, 3)\n",
            "Processed: 6 6.jpg, Dimensions: (600, 900, 3)\n",
            "Processed: 9 2.jpg, Dimensions: (1000, 748, 3)\n",
            "Processed: Air Conditioning label 600x527 (1).jpg, Dimensions: (527, 600, 3)\n",
            "Processed: Condenser 2 1.jpg, Dimensions: (125, 402, 3)\n",
            "Processed: Coffee Brewer Wattage.jpg, Dimensions: (525, 700, 3)\n",
            "Processed: Air Handler 1 2.jpeg, Dimensions: (500, 666, 3)\n",
            "Processed: Air Conditioning label 600x527.jpg, Dimensions: (527, 600, 3)\n",
            "Processed: Coffee Brewer Wattage (1).jpg, Dimensions: (525, 700, 3)\n",
            "Processed: rh8.jpg, Dimensions: (1008, 756, 3)\n",
            "Processed: samsung_refrigerator__like_new_1643367650_f9c93423_progressive (1).jpg, Dimensions: (1080, 810, 3)\n",
            "Processed: Furnace 2 1.png, Dimensions: (502, 354, 3)\n",
            "Processed: IMG_3886.jpg, Dimensions: (943, 1258, 3)\n",
            "Processed: IMG_3886 (1).jpg, Dimensions: (943, 1258, 3)\n",
            "Processed: MicrosoftTeams-image (2).png, Dimensions: (154, 328, 3)\n",
            "Processed: samsung_refrigerator__like_new_1643367650_f9c93423_progressive.jpg, Dimensions: (1080, 810, 3)\n",
            "Processed: rh6 1.jpg, Dimensions: (4032, 3024, 3)\n",
            "Processed: Condenser 3 1.jpg, Dimensions: (480, 640, 3)\n",
            "Processed: MicrosoftTeams-image (1).png, Dimensions: (154, 328, 3)\n",
            "\n",
            "File type counts:\n",
            "Number of .jpg files: 21\n",
            "Number of .jpeg files: 1\n",
            "Number of .png files: 3\n"
          ]
        }
      ]
    },
    {
      "cell_type": "code",
      "source": [
        "pip install paddleocr paddlepaddle\n"
      ],
      "metadata": {
        "colab": {
          "base_uri": "https://localhost:8080/"
        },
        "id": "0qFLDgXQXT0r",
        "outputId": "fc78468b-c0ae-4b5f-c166-ad4a9917432c"
      },
      "execution_count": 6,
      "outputs": [
        {
          "output_type": "stream",
          "name": "stdout",
          "text": [
            "Collecting paddleocr\n",
            "  Downloading paddleocr-2.9.1-py3-none-any.whl.metadata (8.5 kB)\n",
            "Collecting paddlepaddle\n",
            "  Downloading paddlepaddle-2.6.2-cp310-cp310-manylinux1_x86_64.whl.metadata (8.6 kB)\n",
            "Requirement already satisfied: shapely in /usr/local/lib/python3.10/dist-packages (from paddleocr) (2.0.6)\n",
            "Requirement already satisfied: scikit-image in /usr/local/lib/python3.10/dist-packages (from paddleocr) (0.24.0)\n",
            "Requirement already satisfied: imgaug in /usr/local/lib/python3.10/dist-packages (from paddleocr) (0.4.0)\n",
            "Collecting pyclipper (from paddleocr)\n",
            "  Downloading pyclipper-1.3.0.post6-cp310-cp310-manylinux_2_12_x86_64.manylinux2010_x86_64.whl.metadata (9.0 kB)\n",
            "Collecting lmdb (from paddleocr)\n",
            "  Downloading lmdb-1.5.1-cp310-cp310-manylinux_2_17_x86_64.manylinux2014_x86_64.whl.metadata (1.1 kB)\n",
            "Requirement already satisfied: tqdm in /usr/local/lib/python3.10/dist-packages (from paddleocr) (4.66.6)\n",
            "Requirement already satisfied: numpy<2.0 in /usr/local/lib/python3.10/dist-packages (from paddleocr) (1.26.4)\n",
            "Collecting rapidfuzz (from paddleocr)\n",
            "  Downloading rapidfuzz-3.10.1-cp310-cp310-manylinux_2_17_x86_64.manylinux2014_x86_64.whl.metadata (11 kB)\n",
            "Requirement already satisfied: opencv-python in /usr/local/lib/python3.10/dist-packages (from paddleocr) (4.10.0.84)\n",
            "Requirement already satisfied: opencv-contrib-python in /usr/local/lib/python3.10/dist-packages (from paddleocr) (4.10.0.84)\n",
            "Requirement already satisfied: cython in /usr/local/lib/python3.10/dist-packages (from paddleocr) (3.0.11)\n",
            "Requirement already satisfied: Pillow in /usr/local/lib/python3.10/dist-packages (from paddleocr) (11.0.0)\n",
            "Requirement already satisfied: pyyaml in /usr/local/lib/python3.10/dist-packages (from paddleocr) (6.0.2)\n",
            "Collecting python-docx (from paddleocr)\n",
            "  Downloading python_docx-1.1.2-py3-none-any.whl.metadata (2.0 kB)\n",
            "Requirement already satisfied: beautifulsoup4 in /usr/local/lib/python3.10/dist-packages (from paddleocr) (4.12.3)\n",
            "Requirement already satisfied: fonttools>=4.24.0 in /usr/local/lib/python3.10/dist-packages (from paddleocr) (4.55.1)\n",
            "Collecting fire>=0.3.0 (from paddleocr)\n",
            "  Downloading fire-0.7.0.tar.gz (87 kB)\n",
            "\u001b[2K     \u001b[90m━━━━━━━━━━━━━━━━━━━━━━━━━━━━━━━━━━━━━━━━\u001b[0m \u001b[32m87.2/87.2 kB\u001b[0m \u001b[31m5.0 MB/s\u001b[0m eta \u001b[36m0:00:00\u001b[0m\n",
            "\u001b[?25h  Preparing metadata (setup.py) ... \u001b[?25l\u001b[?25hdone\n",
            "Requirement already satisfied: requests in /usr/local/lib/python3.10/dist-packages (from paddleocr) (2.32.3)\n",
            "Collecting albumentations==1.4.10 (from paddleocr)\n",
            "  Downloading albumentations-1.4.10-py3-none-any.whl.metadata (38 kB)\n",
            "Collecting albucore==0.0.13 (from paddleocr)\n",
            "  Downloading albucore-0.0.13-py3-none-any.whl.metadata (3.1 kB)\n",
            "Requirement already satisfied: tomli>=2.0.1 in /usr/local/lib/python3.10/dist-packages (from albucore==0.0.13->paddleocr) (2.2.1)\n",
            "Requirement already satisfied: typing-extensions>=4.9.0 in /usr/local/lib/python3.10/dist-packages (from albucore==0.0.13->paddleocr) (4.12.2)\n",
            "Requirement already satisfied: opencv-python-headless>=4.9.0.80 in /usr/local/lib/python3.10/dist-packages (from albucore==0.0.13->paddleocr) (4.10.0.84)\n",
            "Requirement already satisfied: scipy>=1.10.0 in /usr/local/lib/python3.10/dist-packages (from albumentations==1.4.10->paddleocr) (1.13.1)\n",
            "Requirement already satisfied: scikit-learn>=1.3.2 in /usr/local/lib/python3.10/dist-packages (from albumentations==1.4.10->paddleocr) (1.5.2)\n",
            "Requirement already satisfied: pydantic>=2.7.0 in /usr/local/lib/python3.10/dist-packages (from albumentations==1.4.10->paddleocr) (2.10.3)\n",
            "Requirement already satisfied: httpx in /usr/local/lib/python3.10/dist-packages (from paddlepaddle) (0.28.0)\n",
            "Requirement already satisfied: decorator in /usr/local/lib/python3.10/dist-packages (from paddlepaddle) (4.4.2)\n",
            "Collecting astor (from paddlepaddle)\n",
            "  Downloading astor-0.8.1-py2.py3-none-any.whl.metadata (4.2 kB)\n",
            "Collecting opt-einsum==3.3.0 (from paddlepaddle)\n",
            "  Downloading opt_einsum-3.3.0-py3-none-any.whl.metadata (6.5 kB)\n",
            "Requirement already satisfied: protobuf>=3.20.2 in /usr/local/lib/python3.10/dist-packages (from paddlepaddle) (4.25.5)\n",
            "Requirement already satisfied: termcolor in /usr/local/lib/python3.10/dist-packages (from fire>=0.3.0->paddleocr) (2.5.0)\n",
            "Requirement already satisfied: networkx>=2.8 in /usr/local/lib/python3.10/dist-packages (from scikit-image->paddleocr) (3.4.2)\n",
            "Requirement already satisfied: imageio>=2.33 in /usr/local/lib/python3.10/dist-packages (from scikit-image->paddleocr) (2.36.1)\n",
            "Requirement already satisfied: tifffile>=2022.8.12 in /usr/local/lib/python3.10/dist-packages (from scikit-image->paddleocr) (2024.9.20)\n",
            "Requirement already satisfied: packaging>=21 in /usr/local/lib/python3.10/dist-packages (from scikit-image->paddleocr) (24.2)\n",
            "Requirement already satisfied: lazy-loader>=0.4 in /usr/local/lib/python3.10/dist-packages (from scikit-image->paddleocr) (0.4)\n",
            "Requirement already satisfied: soupsieve>1.2 in /usr/local/lib/python3.10/dist-packages (from beautifulsoup4->paddleocr) (2.6)\n",
            "Requirement already satisfied: anyio in /usr/local/lib/python3.10/dist-packages (from httpx->paddlepaddle) (3.7.1)\n",
            "Requirement already satisfied: certifi in /usr/local/lib/python3.10/dist-packages (from httpx->paddlepaddle) (2024.8.30)\n",
            "Requirement already satisfied: httpcore==1.* in /usr/local/lib/python3.10/dist-packages (from httpx->paddlepaddle) (1.0.7)\n",
            "Requirement already satisfied: idna in /usr/local/lib/python3.10/dist-packages (from httpx->paddlepaddle) (3.10)\n",
            "Requirement already satisfied: h11<0.15,>=0.13 in /usr/local/lib/python3.10/dist-packages (from httpcore==1.*->httpx->paddlepaddle) (0.14.0)\n",
            "Requirement already satisfied: six in /usr/local/lib/python3.10/dist-packages (from imgaug->paddleocr) (1.16.0)\n",
            "Requirement already satisfied: matplotlib in /usr/local/lib/python3.10/dist-packages (from imgaug->paddleocr) (3.8.0)\n",
            "Requirement already satisfied: lxml>=3.1.0 in /usr/local/lib/python3.10/dist-packages (from python-docx->paddleocr) (5.3.0)\n",
            "Requirement already satisfied: charset-normalizer<4,>=2 in /usr/local/lib/python3.10/dist-packages (from requests->paddleocr) (3.4.0)\n",
            "Requirement already satisfied: urllib3<3,>=1.21.1 in /usr/local/lib/python3.10/dist-packages (from requests->paddleocr) (2.2.3)\n",
            "Requirement already satisfied: annotated-types>=0.6.0 in /usr/local/lib/python3.10/dist-packages (from pydantic>=2.7.0->albumentations==1.4.10->paddleocr) (0.7.0)\n",
            "Requirement already satisfied: pydantic-core==2.27.1 in /usr/local/lib/python3.10/dist-packages (from pydantic>=2.7.0->albumentations==1.4.10->paddleocr) (2.27.1)\n",
            "Requirement already satisfied: joblib>=1.2.0 in /usr/local/lib/python3.10/dist-packages (from scikit-learn>=1.3.2->albumentations==1.4.10->paddleocr) (1.4.2)\n",
            "Requirement already satisfied: threadpoolctl>=3.1.0 in /usr/local/lib/python3.10/dist-packages (from scikit-learn>=1.3.2->albumentations==1.4.10->paddleocr) (3.5.0)\n",
            "Requirement already satisfied: sniffio>=1.1 in /usr/local/lib/python3.10/dist-packages (from anyio->httpx->paddlepaddle) (1.3.1)\n",
            "Requirement already satisfied: exceptiongroup in /usr/local/lib/python3.10/dist-packages (from anyio->httpx->paddlepaddle) (1.2.2)\n",
            "Requirement already satisfied: contourpy>=1.0.1 in /usr/local/lib/python3.10/dist-packages (from matplotlib->imgaug->paddleocr) (1.3.1)\n",
            "Requirement already satisfied: cycler>=0.10 in /usr/local/lib/python3.10/dist-packages (from matplotlib->imgaug->paddleocr) (0.12.1)\n",
            "Requirement already satisfied: kiwisolver>=1.0.1 in /usr/local/lib/python3.10/dist-packages (from matplotlib->imgaug->paddleocr) (1.4.7)\n",
            "Requirement already satisfied: pyparsing>=2.3.1 in /usr/local/lib/python3.10/dist-packages (from matplotlib->imgaug->paddleocr) (3.2.0)\n",
            "Requirement already satisfied: python-dateutil>=2.7 in /usr/local/lib/python3.10/dist-packages (from matplotlib->imgaug->paddleocr) (2.8.2)\n",
            "Downloading paddleocr-2.9.1-py3-none-any.whl (544 kB)\n",
            "\u001b[2K   \u001b[90m━━━━━━━━━━━━━━━━━━━━━━━━━━━━━━━━━━━━━━━━\u001b[0m \u001b[32m544.7/544.7 kB\u001b[0m \u001b[31m22.9 MB/s\u001b[0m eta \u001b[36m0:00:00\u001b[0m\n",
            "\u001b[?25hDownloading albucore-0.0.13-py3-none-any.whl (8.5 kB)\n",
            "Downloading albumentations-1.4.10-py3-none-any.whl (161 kB)\n",
            "\u001b[2K   \u001b[90m━━━━━━━━━━━━━━━━━━━━━━━━━━━━━━━━━━━━━━━━\u001b[0m \u001b[32m161.9/161.9 kB\u001b[0m \u001b[31m12.1 MB/s\u001b[0m eta \u001b[36m0:00:00\u001b[0m\n",
            "\u001b[?25hDownloading paddlepaddle-2.6.2-cp310-cp310-manylinux1_x86_64.whl (126.0 MB)\n",
            "\u001b[2K   \u001b[90m━━━━━━━━━━━━━━━━━━━━━━━━━━━━━━━━━━━━━━━━\u001b[0m \u001b[32m126.0/126.0 MB\u001b[0m \u001b[31m6.7 MB/s\u001b[0m eta \u001b[36m0:00:00\u001b[0m\n",
            "\u001b[?25hDownloading opt_einsum-3.3.0-py3-none-any.whl (65 kB)\n",
            "\u001b[2K   \u001b[90m━━━━━━━━━━━━━━━━━━━━━━━━━━━━━━━━━━━━━━━━\u001b[0m \u001b[32m65.5/65.5 kB\u001b[0m \u001b[31m4.8 MB/s\u001b[0m eta \u001b[36m0:00:00\u001b[0m\n",
            "\u001b[?25hDownloading astor-0.8.1-py2.py3-none-any.whl (27 kB)\n",
            "Downloading lmdb-1.5.1-cp310-cp310-manylinux_2_17_x86_64.manylinux2014_x86_64.whl (294 kB)\n",
            "\u001b[2K   \u001b[90m━━━━━━━━━━━━━━━━━━━━━━━━━━━━━━━━━━━━━━━━\u001b[0m \u001b[32m294.9/294.9 kB\u001b[0m \u001b[31m20.6 MB/s\u001b[0m eta \u001b[36m0:00:00\u001b[0m\n",
            "\u001b[?25hDownloading pyclipper-1.3.0.post6-cp310-cp310-manylinux_2_12_x86_64.manylinux2010_x86_64.whl (912 kB)\n",
            "\u001b[2K   \u001b[90m━━━━━━━━━━━━━━━━━━━━━━━━━━━━━━━━━━━━━━━━\u001b[0m \u001b[32m912.2/912.2 kB\u001b[0m \u001b[31m40.8 MB/s\u001b[0m eta \u001b[36m0:00:00\u001b[0m\n",
            "\u001b[?25hDownloading python_docx-1.1.2-py3-none-any.whl (244 kB)\n",
            "\u001b[2K   \u001b[90m━━━━━━━━━━━━━━━━━━━━━━━━━━━━━━━━━━━━━━━━\u001b[0m \u001b[32m244.3/244.3 kB\u001b[0m \u001b[31m19.4 MB/s\u001b[0m eta \u001b[36m0:00:00\u001b[0m\n",
            "\u001b[?25hDownloading rapidfuzz-3.10.1-cp310-cp310-manylinux_2_17_x86_64.manylinux2014_x86_64.whl (3.1 MB)\n",
            "\u001b[2K   \u001b[90m━━━━━━━━━━━━━━━━━━━━━━━━━━━━━━━━━━━━━━━━\u001b[0m \u001b[32m3.1/3.1 MB\u001b[0m \u001b[31m64.6 MB/s\u001b[0m eta \u001b[36m0:00:00\u001b[0m\n",
            "\u001b[?25hBuilding wheels for collected packages: fire\n",
            "  Building wheel for fire (setup.py) ... \u001b[?25l\u001b[?25hdone\n",
            "  Created wheel for fire: filename=fire-0.7.0-py3-none-any.whl size=114249 sha256=fdd9ae7e4703f90bdb62b15b9401a175decaf11d7fdfe55e6a6d86c0b9b035b5\n",
            "  Stored in directory: /root/.cache/pip/wheels/19/39/2f/2d3cadc408a8804103f1c34ddd4b9f6a93497b11fa96fe738e\n",
            "Successfully built fire\n",
            "Installing collected packages: pyclipper, lmdb, rapidfuzz, python-docx, opt-einsum, fire, astor, albucore, paddlepaddle, albumentations, paddleocr\n",
            "  Attempting uninstall: opt-einsum\n",
            "    Found existing installation: opt_einsum 3.4.0\n",
            "    Uninstalling opt_einsum-3.4.0:\n",
            "      Successfully uninstalled opt_einsum-3.4.0\n",
            "  Attempting uninstall: albucore\n",
            "    Found existing installation: albucore 0.0.19\n",
            "    Uninstalling albucore-0.0.19:\n",
            "      Successfully uninstalled albucore-0.0.19\n",
            "  Attempting uninstall: albumentations\n",
            "    Found existing installation: albumentations 1.4.20\n",
            "    Uninstalling albumentations-1.4.20:\n",
            "      Successfully uninstalled albumentations-1.4.20\n",
            "Successfully installed albucore-0.0.13 albumentations-1.4.10 astor-0.8.1 fire-0.7.0 lmdb-1.5.1 opt-einsum-3.3.0 paddleocr-2.9.1 paddlepaddle-2.6.2 pyclipper-1.3.0.post6 python-docx-1.1.2 rapidfuzz-3.10.1\n"
          ]
        }
      ]
    },
    {
      "cell_type": "markdown",
      "source": [
        "# Code; Extracting Attributes from Paddle"
      ],
      "metadata": {
        "id": "XiYA7p5Xajjm"
      }
    },
    {
      "cell_type": "code",
      "source": [
        "import os\n",
        "import pandas as pd\n",
        "from paddleocr import PaddleOCR\n",
        "\n",
        "# Initialize PaddleOCR\n",
        "ocr = PaddleOCR(use_angle_cls=True, lang='en')  # Set language to English\n",
        "\n",
        "# Path to the directory containing images\n",
        "image_dir = '/content/drive/MyDrive/Helix Good Images'\n",
        "\n",
        "# Path to store the results\n",
        "output_path = '/content/drive/MyDrive/paddle1.csv'\n",
        "\n",
        "# Initialize counters and storage\n",
        "processed_count = 0\n",
        "failed_count = 0\n",
        "extracted_info = []\n",
        "\n",
        "# Function to extract text and parse attributes\n",
        "def extract_attributes(image_path):\n",
        "    \"\"\"\n",
        "    Extract manufacturer attributes from an image using PaddleOCR.\n",
        "    Returns a dictionary with serial number, model number, and manufacturer name.\n",
        "    \"\"\"\n",
        "    # Run OCR on the image\n",
        "    results = ocr.ocr(image_path, det=True, rec=True)\n",
        "\n",
        "    if not results or not results[0]:\n",
        "        print(f\"No text detected in: {image_path}\")\n",
        "        return None\n",
        "\n",
        "    # Extract text from results\n",
        "    text_lines = [line[1][0] for line in results[0]]\n",
        "\n",
        "    # Initialize attributes\n",
        "    attributes = {\n",
        "        \"Serial Number\": None,\n",
        "        \"Model Number\": None,\n",
        "        \"Manufacturer Name\": None\n",
        "    }\n",
        "\n",
        "    # Parse text to find specific attributes\n",
        "    for line in text_lines:\n",
        "        line = line.strip()\n",
        "        if \"serial\" in line.lower():\n",
        "            attributes[\"Serial Number\"] = line\n",
        "        elif \"model\" in line.lower():\n",
        "            attributes[\"Model Number\"] = line\n",
        "        elif \"manufacturer\" in line.lower() or \"made by\" in line.lower():\n",
        "            attributes[\"Manufacturer Name\"] = line\n",
        "\n",
        "    return attributes\n",
        "\n",
        "# Iterate through all images in the directory\n",
        "for filename in os.listdir(image_dir):\n",
        "    file_path = os.path.join(image_dir, filename)\n",
        "    if filename.lower().endswith(('.jpg', '.jpeg', '.png')):\n",
        "        attributes = extract_attributes(file_path)\n",
        "        if attributes:\n",
        "            processed_count += 1\n",
        "            extracted_info.append(attributes)\n",
        "            print(f\"Processed: {filename}, Extracted Attributes: {attributes}\")\n",
        "        else:\n",
        "            failed_count += 1\n",
        "            print(f\"Failed to process: {filename}\")\n",
        "\n",
        "# Save results to a CSV file\n",
        "df = pd.DataFrame(extracted_info)\n",
        "df.to_csv(output_path, index=False)\n",
        "\n",
        "# Print summary\n",
        "print(\"\\nProcessing results:\")\n",
        "print(f\"Number of images processed successfully: {processed_count}\")\n",
        "print(f\"Number of images failed to process: {failed_count}\")\n",
        "print(f\"Results saved in: {output_path}\")\n"
      ],
      "metadata": {
        "colab": {
          "base_uri": "https://localhost:8080/"
        },
        "id": "rPTKSFbkXcJ5",
        "outputId": "cf1932b0-f065-4a88-bfb8-0aba61ffb3e4"
      },
      "execution_count": 7,
      "outputs": [
        {
          "output_type": "stream",
          "name": "stdout",
          "text": [
            "download https://paddleocr.bj.bcebos.com/PP-OCRv3/english/en_PP-OCRv3_det_infer.tar to /root/.paddleocr/whl/det/en/en_PP-OCRv3_det_infer/en_PP-OCRv3_det_infer.tar\n"
          ]
        },
        {
          "output_type": "stream",
          "name": "stderr",
          "text": [
            "100%|██████████| 3910/3910 [00:17<00:00, 221.90it/s] \n"
          ]
        },
        {
          "output_type": "stream",
          "name": "stdout",
          "text": [
            "download https://paddleocr.bj.bcebos.com/PP-OCRv4/english/en_PP-OCRv4_rec_infer.tar to /root/.paddleocr/whl/rec/en/en_PP-OCRv4_rec_infer/en_PP-OCRv4_rec_infer.tar\n"
          ]
        },
        {
          "output_type": "stream",
          "name": "stderr",
          "text": [
            "100%|██████████| 10000/10000 [00:17<00:00, 574.61it/s]\n"
          ]
        },
        {
          "output_type": "stream",
          "name": "stdout",
          "text": [
            "download https://paddleocr.bj.bcebos.com/dygraph_v2.0/ch/ch_ppocr_mobile_v2.0_cls_infer.tar to /root/.paddleocr/whl/cls/ch_ppocr_mobile_v2.0_cls_infer/ch_ppocr_mobile_v2.0_cls_infer.tar\n"
          ]
        },
        {
          "output_type": "stream",
          "name": "stderr",
          "text": [
            "100%|██████████| 2138/2138 [00:14<00:00, 151.15it/s]"
          ]
        },
        {
          "output_type": "stream",
          "name": "stdout",
          "text": [
            "[2024/12/09 12:23:30] ppocr DEBUG: Namespace(help='==SUPPRESS==', use_gpu=False, use_xpu=False, use_npu=False, use_mlu=False, ir_optim=True, use_tensorrt=False, min_subgraph_size=15, precision='fp32', gpu_mem=500, gpu_id=0, image_dir=None, page_num=0, det_algorithm='DB', det_model_dir='/root/.paddleocr/whl/det/en/en_PP-OCRv3_det_infer', det_limit_side_len=960, det_limit_type='max', det_box_type='quad', det_db_thresh=0.3, det_db_box_thresh=0.6, det_db_unclip_ratio=1.5, max_batch_size=10, use_dilation=False, det_db_score_mode='fast', det_east_score_thresh=0.8, det_east_cover_thresh=0.1, det_east_nms_thresh=0.2, det_sast_score_thresh=0.5, det_sast_nms_thresh=0.2, det_pse_thresh=0, det_pse_box_thresh=0.85, det_pse_min_area=16, det_pse_scale=1, scales=[8, 16, 32], alpha=1.0, beta=1.0, fourier_degree=5, rec_algorithm='SVTR_LCNet', rec_model_dir='/root/.paddleocr/whl/rec/en/en_PP-OCRv4_rec_infer', rec_image_inverse=True, rec_image_shape='3, 48, 320', rec_batch_num=6, max_text_length=25, rec_char_dict_path='/usr/local/lib/python3.10/dist-packages/paddleocr/ppocr/utils/en_dict.txt', use_space_char=True, vis_font_path='./doc/fonts/simfang.ttf', drop_score=0.5, e2e_algorithm='PGNet', e2e_model_dir=None, e2e_limit_side_len=768, e2e_limit_type='max', e2e_pgnet_score_thresh=0.5, e2e_char_dict_path='./ppocr/utils/ic15_dict.txt', e2e_pgnet_valid_set='totaltext', e2e_pgnet_mode='fast', use_angle_cls=True, cls_model_dir='/root/.paddleocr/whl/cls/ch_ppocr_mobile_v2.0_cls_infer', cls_image_shape='3, 48, 192', label_list=['0', '180'], cls_batch_num=6, cls_thresh=0.9, enable_mkldnn=False, cpu_threads=10, use_pdserving=False, warmup=False, sr_model_dir=None, sr_image_shape='3, 32, 128', sr_batch_num=1, draw_img_save_dir='./inference_results', save_crop_res=False, crop_res_save_dir='./output', use_mp=False, total_process_num=1, process_id=0, benchmark=False, save_log_path='./log_output/', show_log=True, use_onnx=False, return_word_box=False, output='./output', table_max_len=488, table_algorithm='TableAttn', table_model_dir=None, merge_no_span_structure=True, table_char_dict_path=None, formula_algorithm='LaTeXOCR', formula_model_dir=None, formula_char_dict_path=None, formula_batch_num=1, layout_model_dir=None, layout_dict_path=None, layout_score_threshold=0.5, layout_nms_threshold=0.5, kie_algorithm='LayoutXLM', ser_model_dir=None, re_model_dir=None, use_visual_backbone=True, ser_dict_path='../train_data/XFUND/class_list_xfun.txt', ocr_order_method=None, mode='structure', image_orientation=False, layout=True, table=True, formula=False, ocr=True, recovery=False, recovery_to_markdown=False, use_pdf2docx_api=False, invert=False, binarize=False, alphacolor=(255, 255, 255), lang='en', det=True, rec=True, type='ocr', savefile=False, ocr_version='PP-OCRv4', structure_version='PP-StructureV2')\n"
          ]
        },
        {
          "output_type": "stream",
          "name": "stderr",
          "text": [
            "\n"
          ]
        },
        {
          "output_type": "stream",
          "name": "stdout",
          "text": [
            "[2024/12/09 12:23:31] ppocr DEBUG: dt_boxes num : 41, elapsed : 0.11588740348815918\n",
            "[2024/12/09 12:23:31] ppocr DEBUG: cls num  : 41, elapsed : 0.1280210018157959\n",
            "[2024/12/09 12:23:35] ppocr DEBUG: rec_res num  : 41, elapsed : 3.8605611324310303\n",
            "Processed: 12 4.jpg, Extracted Attributes: {'Serial Number': None, 'Model Number': 'MODEL NUMBER:SCGSNI-TS', 'Manufacturer Name': None}\n",
            "[2024/12/09 12:23:35] ppocr DEBUG: dt_boxes num : 22, elapsed : 0.10782098770141602\n",
            "[2024/12/09 12:23:35] ppocr DEBUG: cls num  : 22, elapsed : 0.10451316833496094\n",
            "[2024/12/09 12:23:37] ppocr DEBUG: rec_res num  : 22, elapsed : 1.9667000770568848\n",
            "Processed: 13 2.jpg, Extracted Attributes: {'Serial Number': None, 'Model Number': None, 'Manufacturer Name': None}\n",
            "[2024/12/09 12:23:38] ppocr DEBUG: dt_boxes num : 28, elapsed : 0.4141724109649658\n",
            "[2024/12/09 12:23:38] ppocr DEBUG: cls num  : 28, elapsed : 0.10953903198242188\n",
            "[2024/12/09 12:23:43] ppocr DEBUG: rec_res num  : 28, elapsed : 4.6268861293792725\n",
            "Processed: 11 2.jpg, Extracted Attributes: {'Serial Number': 'SERIALNUMBER:94332174', 'Model Number': 'MODELNUMBER PV83WC-TB', 'Manufacturer Name': None}\n",
            "[2024/12/09 12:23:43] ppocr DEBUG: dt_boxes num : 20, elapsed : 0.2753722667694092\n",
            "[2024/12/09 12:23:43] ppocr DEBUG: cls num  : 20, elapsed : 0.07443761825561523\n",
            "[2024/12/09 12:23:44] ppocr DEBUG: rec_res num  : 20, elapsed : 1.0110180377960205\n",
            "Processed: 4 8.jpg, Extracted Attributes: {'Serial Number': 'SERIAL NO.Q062007477', 'Model Number': 'MODEL NO.65SVP15S', 'Manufacturer Name': None}\n",
            "[2024/12/09 12:23:44] ppocr DEBUG: dt_boxes num : 38, elapsed : 0.3868222236633301\n",
            "[2024/12/09 12:23:45] ppocr DEBUG: cls num  : 38, elapsed : 0.10033679008483887\n",
            "[2024/12/09 12:23:48] ppocr DEBUG: rec_res num  : 38, elapsed : 2.888817071914673\n",
            "Processed: 4 7.jpg, Extracted Attributes: {'Serial Number': None, 'Model Number': 'MODELE', 'Manufacturer Name': None}\n",
            "[2024/12/09 12:23:48] ppocr DEBUG: dt_boxes num : 31, elapsed : 0.17626047134399414\n",
            "[2024/12/09 12:23:48] ppocr DEBUG: cls num  : 31, elapsed : 0.10443568229675293\n",
            "[2024/12/09 12:23:51] ppocr DEBUG: rec_res num  : 31, elapsed : 2.7331337928771973\n",
            "Processed: 1 14.jpg, Extracted Attributes: {'Serial Number': None, 'Model Number': 'MODEL/MODELE:LTCS24223S/09', 'Manufacturer Name': None}\n",
            "[2024/12/09 12:23:51] ppocr DEBUG: dt_boxes num : 47, elapsed : 0.22466135025024414\n",
            "[2024/12/09 12:23:51] ppocr DEBUG: cls num  : 47, elapsed : 0.18474411964416504\n",
            "[2024/12/09 12:23:54] ppocr DEBUG: rec_res num  : 47, elapsed : 3.3794243335723877\n",
            "Processed: 5 10.jpg, Extracted Attributes: {'Serial Number': None, 'Model Number': 'MODEL/MODELE', 'Manufacturer Name': None}\n",
            "[2024/12/09 12:23:55] ppocr DEBUG: dt_boxes num : 53, elapsed : 0.5215773582458496\n",
            "[2024/12/09 12:23:55] ppocr DEBUG: cls num  : 53, elapsed : 0.12761712074279785\n",
            "[2024/12/09 12:23:58] ppocr DEBUG: rec_res num  : 53, elapsed : 3.0447309017181396\n",
            "Processed: 6 6.jpg, Extracted Attributes: {'Serial Number': 'SERIAL N0.17103N6M4F', 'Model Number': None, 'Manufacturer Name': None}\n",
            "[2024/12/09 12:23:58] ppocr DEBUG: dt_boxes num : 22, elapsed : 0.32326769828796387\n",
            "[2024/12/09 12:23:59] ppocr DEBUG: cls num  : 22, elapsed : 0.08173060417175293\n",
            "[2024/12/09 12:24:00] ppocr DEBUG: rec_res num  : 22, elapsed : 1.1890180110931396\n",
            "Processed: 9 2.jpg, Extracted Attributes: {'Serial Number': None, 'Model Number': 'Model', 'Manufacturer Name': None}\n",
            "[2024/12/09 12:24:00] ppocr DEBUG: dt_boxes num : 43, elapsed : 0.2178668975830078\n",
            "[2024/12/09 12:24:00] ppocr DEBUG: cls num  : 43, elapsed : 0.14329004287719727\n",
            "[2024/12/09 12:24:03] ppocr DEBUG: rec_res num  : 43, elapsed : 2.5329511165618896\n",
            "Processed: Air Conditioning label 600x527 (1).jpg, Extracted Attributes: {'Serial Number': 'SERIALNo.LHBC 02345', 'Model Number': 'MODEL No.MR09C1F', 'Manufacturer Name': None}\n",
            "[2024/12/09 12:24:03] ppocr DEBUG: dt_boxes num : 13, elapsed : 0.10078096389770508\n",
            "[2024/12/09 12:24:03] ppocr DEBUG: cls num  : 13, elapsed : 0.04356503486633301\n",
            "[2024/12/09 12:24:04] ppocr DEBUG: rec_res num  : 13, elapsed : 0.9216599464416504\n",
            "Processed: Condenser 2 1.jpg, Extracted Attributes: {'Serial Number': 'SERIAL NO.5076 G0994 3554', 'Model Number': 'MODEL NO.RAMA-060JAZ', 'Manufacturer Name': None}\n",
            "[2024/12/09 12:24:04] ppocr DEBUG: dt_boxes num : 31, elapsed : 0.23715853691101074\n",
            "[2024/12/09 12:24:04] ppocr DEBUG: cls num  : 31, elapsed : 0.08340120315551758\n",
            "[2024/12/09 12:24:11] ppocr DEBUG: rec_res num  : 31, elapsed : 6.449462175369263\n",
            "Processed: Coffee Brewer Wattage.jpg, Extracted Attributes: {'Serial Number': 'Serial No.:480138030002B', 'Model Number': 'Model No.:', 'Manufacturer Name': None}\n",
            "[2024/12/09 12:24:11] ppocr DEBUG: dt_boxes num : 51, elapsed : 0.2408006191253662\n",
            "[2024/12/09 12:24:11] ppocr DEBUG: cls num  : 51, elapsed : 0.1485147476196289\n",
            "[2024/12/09 12:24:16] ppocr DEBUG: rec_res num  : 51, elapsed : 5.004197597503662\n",
            "Processed: Air Handler 1 2.jpeg, Extracted Attributes: {'Serial Number': 'SERIALNO.T M3399 04102', 'Model Number': 'UNITS WITH  IN LAST DIGIT OF MODEL NO. MEETS FLORIDA INSULATION REQUIREMENTS.', 'Manufacturer Name': None}\n",
            "[2024/12/09 12:24:16] ppocr DEBUG: dt_boxes num : 43, elapsed : 0.21656298637390137\n",
            "[2024/12/09 12:24:16] ppocr DEBUG: cls num  : 43, elapsed : 0.12963628768920898\n",
            "[2024/12/09 12:24:19] ppocr DEBUG: rec_res num  : 43, elapsed : 2.529930591583252\n",
            "Processed: Air Conditioning label 600x527.jpg, Extracted Attributes: {'Serial Number': 'SERIALNo.LHBC 02345', 'Model Number': 'MODEL No.MR09C1F', 'Manufacturer Name': None}\n",
            "[2024/12/09 12:24:19] ppocr DEBUG: dt_boxes num : 31, elapsed : 0.23571348190307617\n",
            "[2024/12/09 12:24:19] ppocr DEBUG: cls num  : 31, elapsed : 0.08468055725097656\n",
            "[2024/12/09 12:24:24] ppocr DEBUG: rec_res num  : 31, elapsed : 4.555499076843262\n",
            "Processed: Coffee Brewer Wattage (1).jpg, Extracted Attributes: {'Serial Number': 'Serial No.:480138030002B', 'Model Number': 'Model No.:', 'Manufacturer Name': None}\n",
            "[2024/12/09 12:24:24] ppocr DEBUG: dt_boxes num : 23, elapsed : 0.5287988185882568\n",
            "[2024/12/09 12:24:24] ppocr DEBUG: cls num  : 23, elapsed : 0.09008336067199707\n",
            "[2024/12/09 12:24:27] ppocr DEBUG: rec_res num  : 23, elapsed : 2.1916754245758057\n",
            "Processed: rh8.jpg, Extracted Attributes: {'Serial Number': 'SERIAL:T130302845', 'Model Number': 'UNDERSCORED IN THE COIL MODEL NUMBER.', 'Manufacturer Name': None}\n",
            "[2024/12/09 12:24:27] ppocr DEBUG: dt_boxes num : 41, elapsed : 0.23598384857177734\n",
            "[2024/12/09 12:24:27] ppocr DEBUG: cls num  : 41, elapsed : 0.1002349853515625\n",
            "[2024/12/09 12:24:30] ppocr DEBUG: rec_res num  : 41, elapsed : 2.886296510696411\n",
            "Processed: samsung_refrigerator__like_new_1643367650_f9c93423_progressive (1).jpg, Extracted Attributes: {'Serial Number': None, 'Model Number': 'MODEL:', 'Manufacturer Name': 'MADE BY SAMSUNG'}\n",
            "[2024/12/09 12:24:30] ppocr DEBUG: dt_boxes num : 51, elapsed : 0.15512967109680176\n",
            "[2024/12/09 12:24:30] ppocr DEBUG: cls num  : 51, elapsed : 0.14688920974731445\n",
            "[2024/12/09 12:24:33] ppocr DEBUG: rec_res num  : 51, elapsed : 2.55887770652771\n",
            "Processed: Furnace 2 1.png, Extracted Attributes: {'Serial Number': 'SERIAL NUMBER', 'Model Number': None, 'Manufacturer Name': None}\n",
            "[2024/12/09 12:24:33] ppocr DEBUG: dt_boxes num : 32, elapsed : 0.3537132740020752\n",
            "[2024/12/09 12:24:33] ppocr DEBUG: cls num  : 32, elapsed : 0.10260486602783203\n",
            "[2024/12/09 12:24:36] ppocr DEBUG: rec_res num  : 32, elapsed : 2.8265278339385986\n",
            "Processed: IMG_3886.jpg, Extracted Attributes: {'Serial Number': 'Serial No./No de Serie: 4A00203499', 'Model Number': 'NSF/ANSIStandard 372 in models', 'Manufacturer Name': None}\n",
            "[2024/12/09 12:24:37] ppocr DEBUG: dt_boxes num : 32, elapsed : 0.3212411403656006\n",
            "[2024/12/09 12:24:37] ppocr DEBUG: cls num  : 32, elapsed : 0.12572097778320312\n",
            "[2024/12/09 12:24:40] ppocr DEBUG: rec_res num  : 32, elapsed : 3.3521225452423096\n",
            "Processed: IMG_3886 (1).jpg, Extracted Attributes: {'Serial Number': 'Serial No./No de Serie: 4A00203499', 'Model Number': 'NSF/ANSIStandard 372 in models', 'Manufacturer Name': None}\n",
            "[2024/12/09 12:24:40] ppocr DEBUG: dt_boxes num : 9, elapsed : 0.14575886726379395\n",
            "[2024/12/09 12:24:40] ppocr DEBUG: cls num  : 9, elapsed : 0.07231640815734863\n",
            "[2024/12/09 12:24:41] ppocr DEBUG: rec_res num  : 9, elapsed : 0.7431981563568115\n",
            "Processed: MicrosoftTeams-image (2).png, Extracted Attributes: {'Serial Number': '(s) Serial No.0xoxxxXX', 'Model Number': 'Assembled in China Model A1387', 'Manufacturer Name': None}\n",
            "[2024/12/09 12:24:41] ppocr DEBUG: dt_boxes num : 41, elapsed : 0.3391244411468506\n",
            "[2024/12/09 12:24:41] ppocr DEBUG: cls num  : 41, elapsed : 0.12273025512695312\n",
            "[2024/12/09 12:24:44] ppocr DEBUG: rec_res num  : 41, elapsed : 2.8747124671936035\n",
            "Processed: samsung_refrigerator__like_new_1643367650_f9c93423_progressive.jpg, Extracted Attributes: {'Serial Number': None, 'Model Number': 'MODEL:', 'Manufacturer Name': 'MADE BY SAMSUNG'}\n",
            "[2024/12/09 12:24:45] ppocr DEBUG: dt_boxes num : 18, elapsed : 0.35077643394470215\n",
            "[2024/12/09 12:24:45] ppocr DEBUG: cls num  : 18, elapsed : 0.06882095336914062\n",
            "[2024/12/09 12:24:46] ppocr DEBUG: rec_res num  : 18, elapsed : 1.2720692157745361\n",
            "Processed: rh6 1.jpg, Extracted Attributes: {'Serial Number': 'SERIAL/EN SERIE:', 'Model Number': 'MODEL/MODELE:RCF3617STAMCA', 'Manufacturer Name': None}\n",
            "[2024/12/09 12:24:47] ppocr DEBUG: dt_boxes num : 41, elapsed : 0.21528100967407227\n",
            "[2024/12/09 12:24:47] ppocr DEBUG: cls num  : 41, elapsed : 0.11007380485534668\n",
            "[2024/12/09 12:24:49] ppocr DEBUG: rec_res num  : 41, elapsed : 2.7988078594207764\n",
            "Processed: Condenser 3 1.jpg, Extracted Attributes: {'Serial Number': 'SERIAL NO.', 'Model Number': 'MODEL NO.', 'Manufacturer Name': None}\n",
            "[2024/12/09 12:24:50] ppocr DEBUG: dt_boxes num : 9, elapsed : 0.09185099601745605\n",
            "[2024/12/09 12:24:50] ppocr DEBUG: cls num  : 9, elapsed : 0.051308631896972656\n",
            "[2024/12/09 12:24:50] ppocr DEBUG: rec_res num  : 9, elapsed : 0.7798020839691162\n",
            "Processed: MicrosoftTeams-image (1).png, Extracted Attributes: {'Serial Number': '(s) Serial No.0xoxxxXX', 'Model Number': 'Assembled in China Model A1387', 'Manufacturer Name': None}\n",
            "\n",
            "Processing results:\n",
            "Number of images processed successfully: 25\n",
            "Number of images failed to process: 0\n",
            "Results saved in: /content/drive/MyDrive/paddle1.csv\n"
          ]
        }
      ]
    }
  ]
}